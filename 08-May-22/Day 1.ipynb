{
 "cells": [
  {
   "cell_type": "code",
   "execution_count": 8,
   "id": "234ff5c9",
   "metadata": {
    "scrolled": true
   },
   "outputs": [
    {
     "name": "stdout",
     "output_type": "stream",
     "text": [
      "Happy Coding\n",
      "Hi EveryOne\n"
     ]
    }
   ],
   "source": [
    "print(\"Happy Coding\")\n",
    "print(\"Hi EveryOne\")"
   ]
  },
  {
   "cell_type": "markdown",
   "id": "ea795639",
   "metadata": {},
   "source": [
    "Cell :- single Rectangular Box in which you write code/text\n",
    "    \n",
    "Outline Color of a cell\n",
    "Green =>  Type code / text(markdown)\n",
    "Blue => CMD MODE (you can type code or text..)\n",
    "\n",
    "How do you get into a cmd(blue Outline) mode?\n",
    "By Pressing ESC\n",
    "\n",
    "CMD mode can be used to:\n",
    "    1) Delete a cell by going into cmd mode and pressing dd ( d twice)\n",
    "    2) Converting the cell into markdown by going into cmd mode and pressing m.\n",
    "    \n",
    "How to get back from cmd mode to type / text mode?\n",
    "by clicking the cell\n",
    "\n",
    "How to Execute a cell?\n",
    "\n",
    "1) Click on Run Button \n",
    "2) Shift + Enter  -> Execute the cell and insert a new cell if no new cell there then only it insert \n",
    "3) Ctrl + Enter -> it is just going to Execute the cell\n",
    "4) Alt + Enter -> Execute the cell and insert a new cell \n"
   ]
  },
  {
   "cell_type": "markdown",
   "id": "4683f214",
   "metadata": {},
   "source": [
    "# Happy coding"
   ]
  },
  {
   "cell_type": "markdown",
   "id": "7dee88a9",
   "metadata": {},
   "source": [
    "## Happy coding"
   ]
  },
  {
   "cell_type": "markdown",
   "id": "c6e00ba3",
   "metadata": {},
   "source": [
    "### Happy Coding"
   ]
  },
  {
   "cell_type": "markdown",
   "id": "a8336cc6",
   "metadata": {},
   "source": [
    "#### Happy Coding"
   ]
  },
  {
   "cell_type": "markdown",
   "id": "8e1149c5",
   "metadata": {},
   "source": [
    "This is used to write beautifull Notes.\n",
    "I can insert links , text , bold text , images , and a lot of other things"
   ]
  },
  {
   "cell_type": "markdown",
   "id": "b7847172",
   "metadata": {},
   "source": [
    "# Print Hello Everone"
   ]
  },
  {
   "cell_type": "code",
   "execution_count": 15,
   "id": "fa9cef3b",
   "metadata": {
    "scrolled": true
   },
   "outputs": [
    {
     "name": "stdout",
     "output_type": "stream",
     "text": [
      "Hello Everyone\n",
      "Hi EveryOne\n"
     ]
    },
    {
     "data": {
      "text/plain": [
       "90"
      ]
     },
     "execution_count": 15,
     "metadata": {},
     "output_type": "execute_result"
    }
   ],
   "source": [
    "print(\"Hello Everyone\")\n",
    "print(\"Hi EveryOne\")\n",
    "10\n",
    "40\n",
    "59\n",
    "90"
   ]
  },
  {
   "cell_type": "markdown",
   "id": "3dc0f667",
   "metadata": {},
   "source": [
    "# Variable naming"
   ]
  },
  {
   "cell_type": "code",
   "execution_count": null,
   "id": "31d8bc68",
   "metadata": {},
   "outputs": [],
   "source": [
    "abc = 10\n",
    "_adf = 20\n",
    "30bcs = 30\n",
    "gd adsif = 40\n",
    "_ = 50\n",
    "hjk78 = 80\n",
    "jha7090ahsidfh = 20\n",
    "_700 = 40"
   ]
  },
  {
   "cell_type": "markdown",
   "id": "3eeda56c",
   "metadata": {},
   "source": [
    "### assigning different type of data to a variable"
   ]
  },
  {
   "cell_type": "code",
   "execution_count": 20,
   "id": "8d2307d4",
   "metadata": {},
   "outputs": [
    {
     "data": {
      "text/plain": [
       "'abc'"
      ]
     },
     "execution_count": 20,
     "metadata": {},
     "output_type": "execute_result"
    }
   ],
   "source": [
    "a = 10\n",
    "a = 20\n",
    "a = \"abc\"\n",
    "a"
   ]
  },
  {
   "cell_type": "code",
   "execution_count": 21,
   "id": "93b7b27e",
   "metadata": {
    "scrolled": true
   },
   "outputs": [
    {
     "data": {
      "text/plain": [
       "str"
      ]
     },
     "execution_count": 21,
     "metadata": {},
     "output_type": "execute_result"
    }
   ],
   "source": [
    "type(a)"
   ]
  },
  {
   "cell_type": "code",
   "execution_count": 22,
   "id": "50f1a4e7",
   "metadata": {},
   "outputs": [
    {
     "data": {
      "text/plain": [
       "int"
      ]
     },
     "execution_count": 22,
     "metadata": {},
     "output_type": "execute_result"
    }
   ],
   "source": [
    "a = \"abc\"\n",
    "type(a)\n",
    "a = 10 \n",
    "type(a)"
   ]
  },
  {
   "cell_type": "code",
   "execution_count": 23,
   "id": "cde2fa82",
   "metadata": {},
   "outputs": [
    {
     "name": "stdout",
     "output_type": "stream",
     "text": [
      "<class 'str'>\n",
      "<class 'int'>\n"
     ]
    }
   ],
   "source": [
    "a = \"abc\"\n",
    "print(type(a))\n",
    "a = 10 \n",
    "print(type(a))"
   ]
  },
  {
   "cell_type": "code",
   "execution_count": 24,
   "id": "18eddc7c",
   "metadata": {
    "scrolled": true
   },
   "outputs": [
    {
     "name": "stdout",
     "output_type": "stream",
     "text": [
      "2923680983632\n",
      "2923680983632\n"
     ]
    }
   ],
   "source": [
    "a = 10 \n",
    "b = 10\n",
    "print(id(a))\n",
    "print(id(b))"
   ]
  },
  {
   "cell_type": "code",
   "execution_count": 26,
   "id": "93ec4dc0",
   "metadata": {
    "scrolled": true
   },
   "outputs": [
    {
     "name": "stdout",
     "output_type": "stream",
     "text": [
      "2923680983152\n",
      "2923680983152\n"
     ]
    }
   ],
   "source": [
    "a = -5\n",
    "b = -5\n",
    "print(id(a))\n",
    "print(id(b))"
   ]
  },
  {
   "cell_type": "code",
   "execution_count": 27,
   "id": "bc97ac80",
   "metadata": {
    "scrolled": true
   },
   "outputs": [
    {
     "name": "stdout",
     "output_type": "stream",
     "text": [
      "2923681180048\n",
      "2923681180048\n"
     ]
    }
   ],
   "source": [
    "a = 256\n",
    "b = 256\n",
    "print(id(a))\n",
    "print(id(b))"
   ]
  },
  {
   "cell_type": "code",
   "execution_count": 28,
   "id": "c3e4e8c3",
   "metadata": {
    "scrolled": true
   },
   "outputs": [
    {
     "name": "stdout",
     "output_type": "stream",
     "text": [
      "2923763286768\n",
      "2923763287312\n"
     ]
    }
   ],
   "source": [
    "a = 257\n",
    "b = 257\n",
    "print(id(a))\n",
    "print(id(b))"
   ]
  },
  {
   "cell_type": "code",
   "execution_count": 29,
   "id": "c65ff25f",
   "metadata": {},
   "outputs": [
    {
     "name": "stdout",
     "output_type": "stream",
     "text": [
      "2923763286640\n",
      "2923763286832\n"
     ]
    }
   ],
   "source": [
    "a = -6\n",
    "b = -6\n",
    "print(id(a))\n",
    "print(id(b))"
   ]
  },
  {
   "cell_type": "code",
   "execution_count": 25,
   "id": "a37cf330",
   "metadata": {},
   "outputs": [
    {
     "name": "stdout",
     "output_type": "stream",
     "text": [
      "2923763286512\n",
      "2923763286640\n"
     ]
    }
   ],
   "source": [
    "a = 1000\n",
    "b = 1000\n",
    "print(id(a))\n",
    "print(id(b))"
   ]
  },
  {
   "cell_type": "code",
   "execution_count": 30,
   "id": "a5e28446",
   "metadata": {},
   "outputs": [
    {
     "name": "stdout",
     "output_type": "stream",
     "text": [
      "2923763287248\n",
      "2923763287600\n"
     ]
    }
   ],
   "source": [
    "a = 4.0\n",
    "b = 4.0\n",
    "print(id(a))\n",
    "print(id(b))"
   ]
  },
  {
   "cell_type": "code",
   "execution_count": 31,
   "id": "dccfc8e3",
   "metadata": {},
   "outputs": [
    {
     "name": "stdout",
     "output_type": "stream",
     "text": [
      "2923758345200\n",
      "2923758345200\n"
     ]
    }
   ],
   "source": [
    "a = \"hello\"\n",
    "b = \"hello\"\n",
    "print(id(a))\n",
    "print(id(b))"
   ]
  },
  {
   "cell_type": "code",
   "execution_count": 32,
   "id": "1d825f47",
   "metadata": {},
   "outputs": [
    {
     "name": "stdout",
     "output_type": "stream",
     "text": [
      "2923763182064\n",
      "2923763182960\n"
     ]
    }
   ],
   "source": [
    "a = \"hello Mehak\"\n",
    "b = \"hello Mehak\"\n",
    "print(id(a))\n",
    "print(id(b))"
   ]
  },
  {
   "cell_type": "code",
   "execution_count": 33,
   "id": "a424152a",
   "metadata": {},
   "outputs": [
    {
     "name": "stdout",
     "output_type": "stream",
     "text": [
      "2923763181872\n",
      "2923763181872\n"
     ]
    }
   ],
   "source": [
    "a = \"hello_Mehak\"\n",
    "b = \"hello_Mehak\"\n",
    "print(id(a))\n",
    "print(id(b))"
   ]
  },
  {
   "cell_type": "code",
   "execution_count": 35,
   "id": "546d1145",
   "metadata": {},
   "outputs": [
    {
     "name": "stdout",
     "output_type": "stream",
     "text": [
      "2923762724176\n",
      "2923762724176\n"
     ]
    }
   ],
   "source": [
    "a = \"hello_Mehak_how_are_you_all_fine_i_hope\"\n",
    "b = \"hello_Mehak_how_are_you_all_fine_i_hope\"\n",
    "print(id(a))\n",
    "print(id(b))"
   ]
  },
  {
   "cell_type": "code",
   "execution_count": 36,
   "id": "b484391d",
   "metadata": {},
   "outputs": [
    {
     "name": "stdout",
     "output_type": "stream",
     "text": [
      "2923762661584\n",
      "2923762724272\n"
     ]
    }
   ],
   "source": [
    "a = \"hello_Mehak_how_are you_all_fine_i_hope\"\n",
    "b = \"hello_Mehak_how_are you_all_fine_i_hope\"\n",
    "print(id(a))\n",
    "print(id(b))"
   ]
  },
  {
   "cell_type": "code",
   "execution_count": null,
   "id": "e00d266d",
   "metadata": {},
   "outputs": [],
   "source": [
    "Data Types:\n",
    "    int \n",
    "    float\n",
    "    bool\n",
    "    str\n",
    "    dict\n",
    "    list\n",
    "    tuple\n",
    "    set\n",
    "    None\n",
    "    complex"
   ]
  },
  {
   "cell_type": "code",
   "execution_count": null,
   "id": "58e89bc7",
   "metadata": {},
   "outputs": [],
   "source": [
    "Mutable: modify\n",
    "    list  - [\"divya\" , \"omkar\" , \"Amit\" , None , (31,462,\"Amit\") , {12,34,56} , {\"Python\":3 , \"java\":2}]\n",
    "    set   - {1,234,45,6575,786,89} \n",
    "    dict  - {\"Python\":3 , \"java\":2}"
   ]
  },
  {
   "cell_type": "code",
   "execution_count": null,
   "id": "782ccf70",
   "metadata": {},
   "outputs": [],
   "source": [
    "Immutable: we can not edit(update , add , delete , items)\n",
    "    int  10 , 12 -6 , 3415\n",
    "    float  4.5 , 4.0\n",
    "    bool - True / False\n",
    "    str - 'a' , 'abc' ,\"abdsdv\" , \"\"\"This is also a string\"\"\" , \"432\" , \"34.89\" , \"92473.9347@hjoaid!!!!!\"\n",
    "    None \n",
    "    complex  (3 + 6j)\n",
    "    tuple - (234, 4352,\"Omkar\", \"Divya\")  ,  234, 4352,\"Omkar\", \"Divya\""
   ]
  },
  {
   "cell_type": "code",
   "execution_count": 37,
   "id": "f7272354",
   "metadata": {},
   "outputs": [
    {
     "data": {
      "text/plain": [
       "tuple"
      ]
     },
     "execution_count": 37,
     "metadata": {},
     "output_type": "execute_result"
    }
   ],
   "source": [
    "a = 234, 4352,\"Omkar\", \"Divya\"\n",
    "type(a)"
   ]
  },
  {
   "cell_type": "markdown",
   "id": "fe16e3de",
   "metadata": {},
   "source": [
    "# Immutability"
   ]
  },
  {
   "cell_type": "markdown",
   "id": "3e5ab6cc",
   "metadata": {},
   "source": [
    "# `List`"
   ]
  },
  {
   "cell_type": "code",
   "execution_count": 40,
   "id": "c7e8b07c",
   "metadata": {},
   "outputs": [],
   "source": [
    "a = [\"divya\" , \"omkar\" , \"Amit\" , None]"
   ]
  },
  {
   "cell_type": "code",
   "execution_count": 41,
   "id": "b0073b0b",
   "metadata": {},
   "outputs": [
    {
     "data": {
      "text/plain": [
       "'divya'"
      ]
     },
     "execution_count": 41,
     "metadata": {},
     "output_type": "execute_result"
    }
   ],
   "source": [
    "a[0]"
   ]
  },
  {
   "cell_type": "code",
   "execution_count": 42,
   "id": "e1818b39",
   "metadata": {},
   "outputs": [],
   "source": [
    "a[0] = \"Shaikh\""
   ]
  },
  {
   "cell_type": "code",
   "execution_count": 43,
   "id": "a2723199",
   "metadata": {},
   "outputs": [
    {
     "data": {
      "text/plain": [
       "['Shaikh', 'omkar', 'Amit', None]"
      ]
     },
     "execution_count": 43,
     "metadata": {},
     "output_type": "execute_result"
    }
   ],
   "source": [
    "a"
   ]
  },
  {
   "cell_type": "code",
   "execution_count": null,
   "id": "79c1aa66",
   "metadata": {},
   "outputs": [],
   "source": []
  },
  {
   "cell_type": "markdown",
   "id": "89095293",
   "metadata": {},
   "source": [
    "## `tuple`"
   ]
  },
  {
   "cell_type": "code",
   "execution_count": 45,
   "id": "a3870885",
   "metadata": {},
   "outputs": [
    {
     "data": {
      "text/plain": [
       "tuple"
      ]
     },
     "execution_count": 45,
     "metadata": {},
     "output_type": "execute_result"
    }
   ],
   "source": [
    "a =  (234, 4352,\"Omkar\", \"Divya\" , [\"divya\" , \"omkar\" , \"Amit\"] )\n",
    "type(a)"
   ]
  },
  {
   "cell_type": "code",
   "execution_count": 39,
   "id": "4653b32a",
   "metadata": {},
   "outputs": [
    {
     "ename": "TypeError",
     "evalue": "'tuple' object does not support item assignment",
     "output_type": "error",
     "traceback": [
      "\u001b[1;31m---------------------------------------------------------------------------\u001b[0m",
      "\u001b[1;31mTypeError\u001b[0m                                 Traceback (most recent call last)",
      "Input \u001b[1;32mIn [39]\u001b[0m, in \u001b[0;36m<cell line: 1>\u001b[1;34m()\u001b[0m\n\u001b[1;32m----> 1\u001b[0m a[\u001b[38;5;241m1\u001b[39m] \u001b[38;5;241m=\u001b[39m \u001b[38;5;124m\"\u001b[39m\u001b[38;5;124mhi\u001b[39m\u001b[38;5;124m\"\u001b[39m\n",
      "\u001b[1;31mTypeError\u001b[0m: 'tuple' object does not support item assignment"
     ]
    }
   ],
   "source": [
    "a[1] = \"hi\""
   ]
  },
  {
   "cell_type": "code",
   "execution_count": 46,
   "id": "4cd84625",
   "metadata": {},
   "outputs": [
    {
     "data": {
      "text/plain": [
       "['divya', 'omkar', 'Amit']"
      ]
     },
     "execution_count": 46,
     "metadata": {},
     "output_type": "execute_result"
    }
   ],
   "source": [
    "a[4]"
   ]
  },
  {
   "cell_type": "code",
   "execution_count": 47,
   "id": "3abbe38a",
   "metadata": {},
   "outputs": [
    {
     "data": {
      "text/plain": [
       "'divya'"
      ]
     },
     "execution_count": 47,
     "metadata": {},
     "output_type": "execute_result"
    }
   ],
   "source": [
    "a[4][0]"
   ]
  },
  {
   "cell_type": "code",
   "execution_count": 48,
   "id": "443a3a20",
   "metadata": {},
   "outputs": [
    {
     "data": {
      "text/plain": [
       "'Amit'"
      ]
     },
     "execution_count": 48,
     "metadata": {},
     "output_type": "execute_result"
    }
   ],
   "source": [
    "a[4][2]"
   ]
  },
  {
   "cell_type": "code",
   "execution_count": 49,
   "id": "4889daea",
   "metadata": {},
   "outputs": [],
   "source": [
    "a[4][2] = \"Avanit\" "
   ]
  },
  {
   "cell_type": "code",
   "execution_count": 50,
   "id": "b40c5c57",
   "metadata": {},
   "outputs": [
    {
     "data": {
      "text/plain": [
       "(234, 4352, 'Omkar', 'Divya', ['divya', 'omkar', 'Avanit'])"
      ]
     },
     "execution_count": 50,
     "metadata": {},
     "output_type": "execute_result"
    }
   ],
   "source": [
    "a"
   ]
  },
  {
   "cell_type": "markdown",
   "id": "4bef3d5c",
   "metadata": {},
   "source": [
    "### `Identity Operator`"
   ]
  },
  {
   "cell_type": "code",
   "execution_count": 54,
   "id": "adfd3ea7",
   "metadata": {
    "scrolled": true
   },
   "outputs": [
    {
     "name": "stdout",
     "output_type": "stream",
     "text": [
      "2923680983632\n",
      "2923680983632\n",
      "True\n"
     ]
    }
   ],
   "source": [
    "a = 10\n",
    "b = 10\n",
    "print(id(a))\n",
    "print(id(b))\n",
    "print(a is b)"
   ]
  },
  {
   "cell_type": "code",
   "execution_count": null,
   "id": "615c9895",
   "metadata": {},
   "outputs": [],
   "source": [
    "if both variable object at same memory location or address"
   ]
  },
  {
   "cell_type": "code",
   "execution_count": 55,
   "id": "f73d64c6",
   "metadata": {
    "scrolled": true
   },
   "outputs": [
    {
     "name": "stdout",
     "output_type": "stream",
     "text": [
      "2923791191536\n",
      "2923791190832\n",
      "False\n"
     ]
    }
   ],
   "source": [
    "a = 1000\n",
    "b = 1000\n",
    "print(id(a))\n",
    "print(id(b))\n",
    "print(a is b)"
   ]
  },
  {
   "cell_type": "markdown",
   "id": "4d62234f",
   "metadata": {},
   "source": [
    "## `Equality Operator`"
   ]
  },
  {
   "cell_type": "code",
   "execution_count": 56,
   "id": "75734ede",
   "metadata": {},
   "outputs": [
    {
     "name": "stdout",
     "output_type": "stream",
     "text": [
      "2923791190800\n",
      "2923791188592\n",
      "True\n"
     ]
    }
   ],
   "source": [
    "a = 1000\n",
    "b = 1000\n",
    "print(id(a))\n",
    "print(id(b))\n",
    "print(a == b)"
   ]
  },
  {
   "cell_type": "code",
   "execution_count": 57,
   "id": "cc579fc5",
   "metadata": {},
   "outputs": [
    {
     "name": "stdout",
     "output_type": "stream",
     "text": [
      "True\n"
     ]
    }
   ],
   "source": [
    "a = [1,2,3]\n",
    "b = [1,2,3]\n",
    "print(a == b)"
   ]
  },
  {
   "cell_type": "code",
   "execution_count": 58,
   "id": "a119c690",
   "metadata": {
    "scrolled": true
   },
   "outputs": [
    {
     "name": "stdout",
     "output_type": "stream",
     "text": [
      "True\n"
     ]
    }
   ],
   "source": [
    "a = []\n",
    "b = []\n",
    "print(a == b)"
   ]
  },
  {
   "cell_type": "markdown",
   "id": "da72cd59",
   "metadata": {},
   "source": [
    "How To take Input from User"
   ]
  },
  {
   "cell_type": "code",
   "execution_count": 59,
   "id": "8b42d885",
   "metadata": {},
   "outputs": [
    {
     "name": "stdout",
     "output_type": "stream",
     "text": [
      "Enter your Name:- Anikesh\n"
     ]
    },
    {
     "data": {
      "text/plain": [
       "'Anikesh'"
      ]
     },
     "execution_count": 59,
     "metadata": {},
     "output_type": "execute_result"
    }
   ],
   "source": [
    "a = input(\"Enter your Name:- \")\n",
    "a"
   ]
  },
  {
   "cell_type": "code",
   "execution_count": 60,
   "id": "d22c1e76",
   "metadata": {},
   "outputs": [
    {
     "name": "stdout",
     "output_type": "stream",
     "text": [
      "56\n"
     ]
    },
    {
     "data": {
      "text/plain": [
       "'56'"
      ]
     },
     "execution_count": 60,
     "metadata": {},
     "output_type": "execute_result"
    }
   ],
   "source": [
    "a = input()\n",
    "a"
   ]
  },
  {
   "cell_type": "code",
   "execution_count": 61,
   "id": "17ed6759",
   "metadata": {},
   "outputs": [
    {
     "data": {
      "text/plain": [
       "str"
      ]
     },
     "execution_count": 61,
     "metadata": {},
     "output_type": "execute_result"
    }
   ],
   "source": [
    "type(a)"
   ]
  },
  {
   "cell_type": "code",
   "execution_count": 62,
   "id": "1cae2e5e",
   "metadata": {},
   "outputs": [
    {
     "name": "stdout",
     "output_type": "stream",
     "text": [
      "59\n"
     ]
    },
    {
     "data": {
      "text/plain": [
       "int"
      ]
     },
     "execution_count": 62,
     "metadata": {},
     "output_type": "execute_result"
    }
   ],
   "source": [
    "a = int(input())\n",
    "type(a)"
   ]
  },
  {
   "cell_type": "code",
   "execution_count": 63,
   "id": "e3587066",
   "metadata": {},
   "outputs": [
    {
     "name": "stdout",
     "output_type": "stream",
     "text": [
      "adf\n"
     ]
    },
    {
     "ename": "ValueError",
     "evalue": "invalid literal for int() with base 10: 'adf'",
     "output_type": "error",
     "traceback": [
      "\u001b[1;31m---------------------------------------------------------------------------\u001b[0m",
      "\u001b[1;31mValueError\u001b[0m                                Traceback (most recent call last)",
      "Input \u001b[1;32mIn [63]\u001b[0m, in \u001b[0;36m<cell line: 1>\u001b[1;34m()\u001b[0m\n\u001b[1;32m----> 1\u001b[0m a \u001b[38;5;241m=\u001b[39m \u001b[38;5;28;43mint\u001b[39;49m\u001b[43m(\u001b[49m\u001b[38;5;28;43minput\u001b[39;49m\u001b[43m(\u001b[49m\u001b[43m)\u001b[49m\u001b[43m)\u001b[49m\n\u001b[0;32m      2\u001b[0m \u001b[38;5;28mtype\u001b[39m(a)\n",
      "\u001b[1;31mValueError\u001b[0m: invalid literal for int() with base 10: 'adf'"
     ]
    }
   ],
   "source": [
    "a = int(input())\n",
    "type(a)"
   ]
  },
  {
   "cell_type": "code",
   "execution_count": 66,
   "id": "90efc73e",
   "metadata": {},
   "outputs": [
    {
     "name": "stdout",
     "output_type": "stream",
     "text": [
      "kushagra\n",
      "Sharma\n",
      "kushagraSharma\n"
     ]
    }
   ],
   "source": [
    "a = input()\n",
    "b = input()\n",
    "print(a + b)"
   ]
  },
  {
   "cell_type": "code",
   "execution_count": 65,
   "id": "85daa628",
   "metadata": {},
   "outputs": [
    {
     "name": "stdout",
     "output_type": "stream",
     "text": [
      "25\n",
      "25\n",
      "50\n"
     ]
    }
   ],
   "source": [
    "a = int(input())\n",
    "b = int(input())\n",
    "print(a + b)"
   ]
  },
  {
   "cell_type": "code",
   "execution_count": null,
   "id": "61a8f014",
   "metadata": {},
   "outputs": [],
   "source": []
  }
 ],
 "metadata": {
  "kernelspec": {
   "display_name": "Python 3 (ipykernel)",
   "language": "python",
   "name": "python3"
  },
  "language_info": {
   "codemirror_mode": {
    "name": "ipython",
    "version": 3
   },
   "file_extension": ".py",
   "mimetype": "text/x-python",
   "name": "python",
   "nbconvert_exporter": "python",
   "pygments_lexer": "ipython3",
   "version": "3.9.12"
  }
 },
 "nbformat": 4,
 "nbformat_minor": 5
}
